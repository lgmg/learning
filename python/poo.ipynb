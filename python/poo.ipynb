{
 "cells": [
  {
   "cell_type": "markdown",
   "id": "d84525fc-8f82-4c3d-9139-be1dd80e5295",
   "metadata": {},
   "source": [
    "# Programmation orienté objet (POO)\n",
    "\n",
    "La programmation au départ est très proche de la machine : elle exécute les instructions les unes après les autres (même si il y a des fonctions : la machine va juste aller à l'adresse de la fonction puis revient). Ainsi on représente le programme sous la forme d'algorithme simple. C'est ce que l'on appelle le langage procédural. Mais au cours du temps, la programmation ne se resteint plus à des calculs mais s'étend à des besoins plus larges. Il faut alors conceptualiser pour mieux représenter les notions. Apparaît alors la programmation orientée objet   \n",
    "\n",
    "Un nouveau paradigme, une nouvelle représentation plus proche de la vie mais plus complexe à appréhender\n",
    "\n",
    "- Représentation du problème par des classes qui sont caractérisés par :\n",
    "    - des propriétés \n",
    "    - des méthodes\n",
    "- Les classes ne sont que des catégories, on va créer des objets à partir de ces classes (on dit que l'on les intancie) et on leur donne les propriétés initiales\n",
    "- Les méthodes sont des fonction qui permettent de traiter des tâches avec les propriétés\n",
    "- on préfère \"encapsuler\" pour éviter que n'importe quel objet puissent modifier un autre (meme de la même classe)\n",
    "- dans python tout est objet\n",
    "\n",
    "Nous avons vu que les str sont des objets, mais c'est aussi le cas de tous les autres types"
   ]
  },
  {
   "cell_type": "code",
   "execution_count": 4,
   "id": "8b596a1a-081f-4ff2-a827-820860d04340",
   "metadata": {},
   "outputs": [
    {
     "name": "stdout",
     "output_type": "stream",
     "text": [
      "la voiture immatriculée BB1111AA est rouge\n",
      "la voiture immatriculée CC1111DD est bleue\n"
     ]
    }
   ],
   "source": [
    "# je créer une classe voiture\n",
    "class Voiture :\n",
    "    def  __init__(self , numero, couleur =\"jaune \"):\n",
    "        self.immatriculation= numero\n",
    "        self.couleur = couleur\n",
    "        \n",
    "# je créé une voiture rouge\n",
    "ma_voiture=Voiture(\"BB1111AA\", \"rouge\")\n",
    "print(f\"la voiture immatriculée {ma_voiture.immatriculation} est {ma_voiture.couleur}\")\n",
    "autre_voiture=Voiture(\"CC1111DD\", \"bleue\")\n",
    "print(f\"la voiture immatriculée {autre_voiture.immatriculation} est {autre_voiture.couleur}\")\n"
   ]
  },
  {
   "cell_type": "code",
   "execution_count": 5,
   "id": "2bc963d8-0402-47e7-8931-caccd59004f0",
   "metadata": {},
   "outputs": [],
   "source": [
    "# je créé une classe point avec les propriétés x et y\n",
    "\n",
    "# je créée une classe Vecteur avec les propriétés x et y\n",
    "# je créée la méthode module (ne pas oublier d'importer le module math)\n"
   ]
  },
  {
   "cell_type": "markdown",
   "id": "e553809d-9406-4825-90af-f007e7e77be1",
   "metadata": {},
   "source": [
    "## Notion d'héritage\n",
    "On peut voir la notion d'héritage de classe comme une transmission de propriété de la classe mère à la classe fille, on fait un zoom sur la classe mère pour avoir la classe fille. Ou dans le sens contraire, le voir comme une façon d'unifier des classes qui ont des propriétés et méthode communes. En fait on fera appel à un héritage en fonction de la conception / de la portée / de la granularité / de la généricité du problème auquel on répond "
   ]
  },
  {
   "cell_type": "code",
   "execution_count": null,
   "id": "74ebcffd-b107-49ed-8332-7903cc2a1edf",
   "metadata": {},
   "outputs": [],
   "source": [
    "# je fais une classe Animal avec les propriétés communes\n",
    "# je fais une classe Ovipare qui hérite de la classe animale avec des propriétés spécifiques\n",
    "# je fais une classe Vivipare \n",
    "# je fais une classe Chien et j'instancie\n",
    "# je fais une classe Chat et j'instancie\n",
    "# je fais une classe Poule et j'instancie\n",
    "# je fais une classe Ornithorinque et j'instancie\n"
   ]
  }
 ],
 "metadata": {
  "kernelspec": {
   "display_name": "Python 3 (ipykernel)",
   "language": "python",
   "name": "python3"
  },
  "language_info": {
   "codemirror_mode": {
    "name": "ipython",
    "version": 3
   },
   "file_extension": ".py",
   "mimetype": "text/x-python",
   "name": "python",
   "nbconvert_exporter": "python",
   "pygments_lexer": "ipython3",
   "version": "3.8.10"
  }
 },
 "nbformat": 4,
 "nbformat_minor": 5
}
