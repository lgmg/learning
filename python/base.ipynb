{
 "cells": [
  {
   "cell_type": "markdown",
   "id": "44047c95-8be7-4092-8705-e1f92c2fcd01",
   "metadata": {
    "tags": []
   },
   "source": [
    "# APPRENDRE LES BASES DE PYTHON"
   ]
  },
  {
   "cell_type": "markdown",
   "id": "949e110b-bbd6-43f0-affb-de3323a89e7d",
   "metadata": {},
   "source": [
    "## Environnement de développement\n",
    "Les Environements de développement sont un ensemble d'outils facilitent la vie des développeurs en fournissant :\n",
    "- un éditeur de code\n",
    "    ex : idle, pyCharm, spyder, vscode ...\n",
    "- une gestion des projets avec un environnement virtuel\n",
    "    le module venv\n",
    "- un débogueur intégré\n",
    "- un support à la qualité du code\n",
    "- un noyau intégré d'exécution \n",
    "\n",
    "Jupyter notebook est un outils unique qui permet de simplement exécuter des scripts python de façon séquentielle"
   ]
  },
  {
   "cell_type": "markdown",
   "id": "2de223a1-25f0-4e07-9932-6720fc7aa2fb",
   "metadata": {},
   "source": [
    "## Variables\n",
    "Les variables sont des libellés qui permettent de désigner des valeurs. En fait ces libellés \"pointent\" sur une adresse mémoire et quand on fait appel à ces variables, le noyau va lire l'adresse mémoire associée et décode le contenu en fonction du type de la variable.\n",
    "\n",
    "Python est un langage qui de nécessite pas une déclaration de type des variables. Cependant, en interne ces types sont déterminés à l'allocation de valeurs "
   ]
  },
  {
   "cell_type": "markdown",
   "id": "3d2b74d4-7edd-4fbd-94fd-2f2442976984",
   "metadata": {},
   "source": [
    "### type de variables"
   ]
  },
  {
   "cell_type": "raw",
   "id": "818db3f3-5389-4aea-9026-92f134689ce8",
   "metadata": {},
   "source": [
    "Pour chacun de ces types :\n",
    "- allouer une valeur\n",
    "- faire un print\n",
    "- vérifier de type\n",
    "- faire des opérations"
   ]
  },
  {
   "cell_type": "markdown",
   "id": "89e60a14-c797-4aca-8086-f33d4282ca8e",
   "metadata": {},
   "source": [
    "- Booléen (boolean)\n",
    "les booléens ne peuvent prendre que les valeurs True ou False"
   ]
  },
  {
   "cell_type": "code",
   "execution_count": 1,
   "id": "117f033d-3970-49a8-982a-1673b180bd5b",
   "metadata": {},
   "outputs": [],
   "source": [
    "ok=True\n",
    "nok=False\n"
   ]
  },
  {
   "cell_type": "markdown",
   "id": "1a724d7c-4c96-4702-8088-e4219aba08b3",
   "metadata": {
    "tags": []
   },
   "source": [
    "- Entier (integer)\n",
    "opérations basiques : +, -, *,/,%"
   ]
  },
  {
   "cell_type": "code",
   "execution_count": 2,
   "id": "9bfc782d-ebf8-4b53-ba4d-388d68562183",
   "metadata": {},
   "outputs": [
    {
     "name": "stdout",
     "output_type": "stream",
     "text": [
      "10\n",
      "20\n",
      "<class 'int'>\n"
     ]
    },
    {
     "data": {
      "text/plain": [
       "1"
      ]
     },
     "execution_count": 2,
     "metadata": {},
     "output_type": "execute_result"
    }
   ],
   "source": [
    "# tester ici\n",
    "nombre_articles=10\n",
    "print(nombre_articles)\n",
    "nombre_articles= nombre_articles + 10\n",
    "print(nombre_articles)\n",
    "print(type(nombre_articles))\n",
    "10 % 3\n"
   ]
  },
  {
   "cell_type": "markdown",
   "id": "3463407a-2c64-4eeb-a924-194ac6a8c280",
   "metadata": {
    "tags": []
   },
   "source": [
    "- Réels (Float))\n",
    "\n",
    "opérations : +, -, *, /\n",
    "\n",
    "écriture scientifique\n"
   ]
  },
  {
   "cell_type": "code",
   "execution_count": 3,
   "id": "405990b3-9af7-486b-a24b-8c27cc66b835",
   "metadata": {},
   "outputs": [
    {
     "name": "stdout",
     "output_type": "stream",
     "text": [
      "0.7216666666666667\n",
      "<class 'float'>\n",
      "6.02e+23\n",
      "<class 'float'>\n"
     ]
    }
   ],
   "source": [
    "x=1.2\n",
    "y=0.866\n",
    "z=y/x\n",
    "print(z)\n",
    "print(type(z))\n",
    "agovadro=6.02e23\n",
    "print(agovadro)\n",
    "print(type(agovadro))\n"
   ]
  },
  {
   "cell_type": "markdown",
   "id": "944c7c79-9904-4b46-ba53-4fd833253756",
   "metadata": {
    "tags": []
   },
   "source": [
    "- Chaine de caractère (string)\n",
    "Le type string est en fait une \"classe\". On le verra plus tard.\n",
    "Il y a beacoup d'opération possible https://docs.python.org/3/library/stdtypes.html#textseq\n"
   ]
  },
  {
   "cell_type": "code",
   "execution_count": 4,
   "id": "fecda33c-96dd-4b03-9b6e-a16a156e897d",
   "metadata": {},
   "outputs": [
    {
     "name": "stdout",
     "output_type": "stream",
     "text": [
      "t\n",
      "Socrate\n",
      "tous les hommes sont mortels or Socrate est un homme donc Socrate est mortel\n",
      "TOUS LES HOMMES SONT MORTELS\n",
      "12\n"
     ]
    }
   ],
   "source": [
    "\n",
    "premisse_majeure=\"tous les hommes sont mortels\"\n",
    "premisse_mineure=\"Socrate est un homme\"\n",
    "conclusion=\"Socrate est mortel\"\n",
    "\n",
    "# substring\n",
    "print(premisse_majeure[0])\n",
    "print(conclusion[0:7])\n",
    "\n",
    "# concatenation\n",
    "sillogisme= premisse_majeure + \\\n",
    "\" or \" + \\\n",
    "premisse_mineure + \\\n",
    "\" donc \" + \\\n",
    "conclusion\n",
    "print(sillogisme)\n",
    "\n",
    "# operation :\n",
    "print(premisse_majeure.upper())\n",
    "print(conclusion.find(\"mortel\"))\n",
    "\n",
    "\n"
   ]
  },
  {
   "cell_type": "markdown",
   "id": "a86feeb8-ff9a-4b45-940e-7f0919f49802",
   "metadata": {},
   "source": [
    "- formatted string (f-string)\n",
    "les chaines de caractere formatées permettent d'inclure des valeurs de variables et éventuellement d'indiquer le format de sortie\n"
   ]
  },
  {
   "cell_type": "code",
   "execution_count": 5,
   "id": "990902ed-79f9-4c02-a69e-2296b0d2108a",
   "metadata": {},
   "outputs": [
    {
     "name": "stdout",
     "output_type": "stream",
     "text": [
      "my name is Bond, James Bond \n",
      "my name is Bond, James Bond\n"
     ]
    }
   ],
   "source": [
    "mon_nom=\"Bond\"\n",
    "mon_prenom=\"James\"\n",
    "# premiere methode\n",
    "reponse=f\"my name is {mon_nom}, {mon_prenom} {mon_nom} \"\n",
    "print(reponse)\n",
    "# deuxième méthode\n",
    "reponse2 = \"my name is {0}, {1} {0}\".format(mon_nom, mon_prenom)\n",
    "print(reponse2)"
   ]
  },
  {
   "cell_type": "markdown",
   "id": "ee054c2c-d129-401f-89f8-c06986c3197f",
   "metadata": {},
   "source": [
    "voir https://www.w3schools.com/python/ref_string_format.asp"
   ]
  },
  {
   "cell_type": "code",
   "execution_count": 6,
   "id": "0acba7a0-e7ff-4177-8eea-6a90e6892d9f",
   "metadata": {},
   "outputs": [
    {
     "name": "stdout",
     "output_type": "stream",
     "text": [
      "le nouveau prix 9.23 avec 25% de réduction)\n"
     ]
    }
   ],
   "source": [
    "prix = 12.3\n",
    "discount = 0.25\n",
    "print(\"le nouveau prix : {0:.2f} avec {1:.0%} de réduction)\".format(prix*(1-discount),discount))"
   ]
  },
  {
   "cell_type": "markdown",
   "id": "e232f41a-03ea-444d-a5bc-77cc70091340",
   "metadata": {},
   "source": [
    "### Conversion\n",
    "Il est possible de convertir les types\n",
    "- de façon implicite par des opérations (entre entier et rééls)\n",
    "- avec des fonctions\n"
   ]
  },
  {
   "cell_type": "code",
   "execution_count": 7,
   "id": "c80ee982-999b-4c96-bcbf-37839b55143c",
   "metadata": {},
   "outputs": [],
   "source": [
    "#vers le type entiers\n",
    "#vers le type str\n",
    "#vers le type réél\n",
    "#vers le type boolean"
   ]
  }
 ],
 "metadata": {
  "kernelspec": {
   "display_name": "Python 3 (ipykernel)",
   "language": "python",
   "name": "python3"
  },
  "language_info": {
   "codemirror_mode": {
    "name": "ipython",
    "version": 3
   },
   "file_extension": ".py",
   "mimetype": "text/x-python",
   "name": "python",
   "nbconvert_exporter": "python",
   "pygments_lexer": "ipython3",
   "version": "3.8.10"
  }
 },
 "nbformat": 4,
 "nbformat_minor": 5
}
