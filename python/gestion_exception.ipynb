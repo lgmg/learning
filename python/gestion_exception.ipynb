{
 "cells": [
  {
   "cell_type": "markdown",
   "id": "6575cf8a-6661-4779-9a66-af7cb88eeb98",
   "metadata": {},
   "source": [
    "# Gestion des Exception\n",
    "On appelle une exceptions les erreurs venant du systeme (car en informatique les erreurs sont exceptionnelles)\n",
    "Ainsi, si une instruction ou un bloc est succeptible de générer une exception on doit le traiter pour éviter que le programme plante. \n",
    "\n",
    "On peut alors: \n",
    "- soit vérifier les entrées avec un bloc if avant l'instruction (et exécuter l'instruction seulement si il est sans danger\n",
    "- soit intercepter le signal envoyé au système.\n",
    "\n",
    "Dans ce dernier cas on utilise le bloc try / except\n",
    "\n"
   ]
  },
  {
   "cell_type": "code",
   "execution_count": 2,
   "id": "19e5a07b-b1fa-40e8-aecc-a7782ba96a2d",
   "metadata": {},
   "outputs": [
    {
     "name": "stdout",
     "output_type": "stream",
     "text": [
      " Impossible d'ouvrir  le  fichier toto.txt\n"
     ]
    }
   ],
   "source": [
    "# je teste l'utilisation de try / except pour teste l'existence de fichier \n",
    "nom = \"toto.txt\"\n",
    "try:\n",
    "    with  open(nom , \"r\") as  fichier:\n",
    "        for  ligne  in  fichier:\n",
    "            print(ligne)\n",
    "except:\n",
    "    print(\" Impossible d'ouvrir  le  fichier\", nom)"
   ]
  },
  {
   "cell_type": "code",
   "execution_count": null,
   "id": "5954c60d-b4fc-48bb-84a1-26dd742d36b4",
   "metadata": {},
   "outputs": [],
   "source": []
  },
  {
   "cell_type": "code",
   "execution_count": null,
   "id": "5c1194c0-63c6-4af0-b0d9-4c120b9727aa",
   "metadata": {},
   "outputs": [],
   "source": []
  }
 ],
 "metadata": {
  "kernelspec": {
   "display_name": "Python 3 (ipykernel)",
   "language": "python",
   "name": "python3"
  },
  "language_info": {
   "codemirror_mode": {
    "name": "ipython",
    "version": 3
   },
   "file_extension": ".py",
   "mimetype": "text/x-python",
   "name": "python",
   "nbconvert_exporter": "python",
   "pygments_lexer": "ipython3",
   "version": "3.8.10"
  }
 },
 "nbformat": 4,
 "nbformat_minor": 5
}
