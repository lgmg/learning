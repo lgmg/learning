{
 "cells": [
  {
   "cell_type": "markdown",
   "id": "455134a0-6922-4127-abf7-73634f1db583",
   "metadata": {},
   "source": [
    "# Boucles\n",
    "\n",
    "Les boucles permettent d'exécuter plusieurs fois les mêmes tâches avec éventuellement une incrémentation ou un changement d'un état à chaque itération\n",
    "En python il y a principalement deux type de boucles :\n",
    "- les boucles for : le bloc est exécuté un nombre déterminé de fois la boucle\n",
    "- les boucles while : le bloc est exécuté tant que la condition qui suit est vraie"
   ]
  },
  {
   "cell_type": "markdown",
   "id": "a23d9c61-7586-4c27-9f82-eb938bd8852c",
   "metadata": {},
   "source": [
    "## boucle for"
   ]
  },
  {
   "cell_type": "code",
   "execution_count": 9,
   "id": "84750a59-a01d-437a-ace8-993a0a485874",
   "metadata": {},
   "outputs": [
    {
     "name": "stdout",
     "output_type": "stream",
     "text": [
      "\n",
      "*\n",
      "**\n",
      "***\n",
      "****\n",
      "*****\n"
     ]
    }
   ],
   "source": [
    "'''\n",
    "j'affiche grâce a une boucle for\n",
    "*\n",
    "**\n",
    "***\n",
    "****\n",
    "*****\n",
    "'''\n"
   ]
  },
  {
   "cell_type": "code",
   "execution_count": 15,
   "id": "c44a8256-9787-46aa-8eb4-32dea7fe7fec",
   "metadata": {},
   "outputs": [
    {
     "name": "stdout",
     "output_type": "stream",
     "text": [
      "*****\n",
      "****\n",
      "***\n",
      "**\n",
      "*\n",
      "\n"
     ]
    }
   ],
   "source": [
    "'''\n",
    "j'affiche grâce a une boucle for\n",
    "*****\n",
    "****\n",
    "***\n",
    "**\n",
    "*\n",
    "'''\n",
    "    "
   ]
  },
  {
   "cell_type": "markdown",
   "id": "a00eba9a-b8ad-4da9-9ea0-3f800b53ebf6",
   "metadata": {},
   "source": [
    "échappement : break et continue"
   ]
  },
  {
   "cell_type": "code",
   "execution_count": null,
   "id": "ffcca0c2-2183-4aa1-b7b5-2c56fe6c048a",
   "metadata": {},
   "outputs": [],
   "source": [
    "# break : sort de la boucle\n"
   ]
  },
  {
   "cell_type": "code",
   "execution_count": null,
   "id": "3bd4f63c-b624-4d26-8885-9760e15c5fa1",
   "metadata": {},
   "outputs": [],
   "source": [
    "# continue : passe à l'itération suivante\n"
   ]
  },
  {
   "cell_type": "markdown",
   "id": "fd844a87-29f4-448e-830e-da1e5e2e49e9",
   "metadata": {},
   "source": [
    "### iteration"
   ]
  },
  {
   "cell_type": "code",
   "execution_count": 2,
   "id": "bc6a9d5d-171c-4457-8c02-c6d4cdfc9c4f",
   "metadata": {},
   "outputs": [
    {
     "name": "stdout",
     "output_type": "stream",
     "text": [
      "l'item  0  est  a\n",
      "l'item  1  est  b\n",
      "l'item  2  est  c\n",
      "l'item  3  est  d\n"
     ]
    }
   ],
   "source": [
    "# je créé une liste\n",
    "# en itérant sur la liste et j'affiche l'itérateur \n",
    "# utiliser enumerate\n"
   ]
  },
  {
   "cell_type": "markdown",
   "id": "4968bd76-e128-461e-87f6-768791993c22",
   "metadata": {},
   "source": [
    "# boucle while"
   ]
  },
  {
   "cell_type": "code",
   "execution_count": null,
   "id": "26388226-08f4-4abc-b409-d732e0551b0a",
   "metadata": {},
   "outputs": [],
   "source": [
    "# je créé une liste\n",
    "# je recherche un élément de cette liste en affichant 'i: pas trouvé' avec i le numéro la position de l'élément\n",
    "# et 'ça y est j'ai trouvé, c'est l'élément i' avec i la position de l'élément recherché "
   ]
  }
 ],
 "metadata": {
  "kernelspec": {
   "display_name": "Python 3 (ipykernel)",
   "language": "python",
   "name": "python3"
  },
  "language_info": {
   "codemirror_mode": {
    "name": "ipython",
    "version": 3
   },
   "file_extension": ".py",
   "mimetype": "text/x-python",
   "name": "python",
   "nbconvert_exporter": "python",
   "pygments_lexer": "ipython3",
   "version": "3.8.10"
  }
 },
 "nbformat": 4,
 "nbformat_minor": 5
}
