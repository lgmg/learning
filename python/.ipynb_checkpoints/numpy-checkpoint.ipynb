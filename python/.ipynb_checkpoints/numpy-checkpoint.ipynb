{
 "cells": [
  {
   "cell_type": "markdown",
   "id": "536bfb85-8288-4e6c-b393-841893d63fbe",
   "metadata": {},
   "source": [
    "# Scientific tools - Numpy\n",
    "\n",
    "- numpy : outils d'analyse numérique (matrice, algebre linéaire, optimisation ...)\n",
    "- matplotlib : librairie de tracé de graph - utilise numpy\n",
    "- pandas : outils d'analyse de données (traitement, filtre, fusion ...)"
   ]
  },
  {
   "cell_type": "markdown",
   "id": "a5b21211-a331-430c-b0a3-7845a38e4b6d",
   "metadata": {},
   "source": [
    "## numpy\n",
    "Numpy fournit des functions permettant de facilement faire des opérations matricielles\n",
    "le tableau est le type de base "
   ]
  },
  {
   "cell_type": "markdown",
   "id": "e6bb78ec-462c-4869-bbfe-5c8e84f251e2",
   "metadata": {},
   "source": [
    "## creation"
   ]
  },
  {
   "cell_type": "markdown",
   "id": "abb11ef7-fed1-453a-bb57-e820899260d3",
   "metadata": {},
   "source": [
    "- créer avec des valeurs"
   ]
  },
  {
   "cell_type": "code",
   "execution_count": 6,
   "id": "b7838888-23ae-4ede-8a02-9d2ccf8910cb",
   "metadata": {},
   "outputs": [
    {
     "name": "stdout",
     "output_type": "stream",
     "text": [
      "vecteur : \n",
      " [1 2 3]\n",
      "type : <class 'numpy.ndarray'>\n"
     ]
    }
   ],
   "source": [
    "import numpy as np\n",
    "un_vecteur=np.array([1,2,3])\n",
    "\n",
    "print(f\"vecteur : \\n {un_vecteur}\")\n",
    "print(f\"type : {type(un_vecteur)}\")\n"
   ]
  },
  {
   "cell_type": "code",
   "execution_count": null,
   "id": "9e8bb48c-60da-4e49-9a01-dd957af10937",
   "metadata": {},
   "outputs": [],
   "source": [
    "une_matrice= np.array([\n",
    "    [1, 2, 3],\n",
    "    [4, 5, 6],\n",
    "    [6, 7, 9],\n",
    "])\n",
    "print(f\"matrice : \\n {une_matrice}\")\n",
    "print(f\"type : {type(une_matrice)}\")"
   ]
  },
  {
   "cell_type": "markdown",
   "id": "66c74a76-c99e-44aa-a7db-f7409effb1e0",
   "metadata": {},
   "source": [
    "- génère des valeurs"
   ]
  },
  {
   "cell_type": "code",
   "execution_count": null,
   "id": "ca3a78f6-feec-4ca6-b116-fe397d713edd",
   "metadata": {},
   "outputs": [],
   "source": [
    "suite=np.arange(10)\n",
    "print(f\"suite : \\n {suite}\")"
   ]
  },
  {
   "cell_type": "code",
   "execution_count": null,
   "id": "32c33edb-ff8c-489d-b142-854151c078a8",
   "metadata": {},
   "outputs": [],
   "source": [
    "x_set=np.arange(2, 3, 0.1)\n",
    "print(f\"x_set : \\n {x_set}\")"
   ]
  },
  {
   "cell_type": "code",
   "execution_count": null,
   "id": "adeaa896-0787-4692-a3c9-4b1bad6d9e03",
   "metadata": {},
   "outputs": [],
   "source": [
    "identite=np.eye(3)\n",
    "print(f\"identite : \\n {identite}\")"
   ]
  },
  {
   "cell_type": "code",
   "execution_count": null,
   "id": "621f5fec-78b5-4379-b7d5-4f71b812a70d",
   "metadata": {},
   "outputs": [],
   "source": [
    "#j'explore:\n",
    "# - np.linspace\n",
    "# - np.zeros\n",
    "# - np.ones\n",
    "# - np.diag"
   ]
  },
  {
   "cell_type": "markdown",
   "id": "0955fbd1-0674-4417-9e90-e7184dc73352",
   "metadata": {},
   "source": [
    "- lecture de fichier csv"
   ]
  },
  {
   "cell_type": "code",
   "execution_count": 4,
   "id": "871e64b1-4a21-4fd7-a3c2-ed2dbb19f617",
   "metadata": {},
   "outputs": [
    {
     "name": "stdout",
     "output_type": "stream",
     "text": [
      "donnees : \n",
      " [[0. 0.]\n",
      " [1. 1.]\n",
      " [2. 4.]\n",
      " [3. 9.]]\n"
     ]
    }
   ],
   "source": [
    "donnees = np.loadtxt('simple.csv', delimiter = ',', skiprows = 1) \n",
    "print(f\"donnees : \\n {donnees}\")"
   ]
  },
  {
   "cell_type": "markdown",
   "id": "4101440d-9fc0-427c-8e2a-b64e8c7d8f39",
   "metadata": {},
   "source": [
    "# Operation"
   ]
  },
  {
   "cell_type": "code",
   "execution_count": 18,
   "id": "afa06089-d1e1-44ad-804c-0f96a98273bc",
   "metadata": {},
   "outputs": [
    {
     "name": "stdout",
     "output_type": "stream",
     "text": [
      "a : \n",
      " [[0 1 2]\n",
      " [3 4 5]\n",
      " [6 7 8]]\n",
      "b : \n",
      " [[ 9 10 11]\n",
      " [12 13 14]\n",
      " [15 16 17]]\n",
      "a*b : \n",
      " [[  0  10  22]\n",
      " [ 36  52  70]\n",
      " [ 90 112 136]]\n"
     ]
    }
   ],
   "source": [
    "# multiplication éléments par éléments\n",
    "a=np.arange(9).reshape(3,3)\n",
    "b=np.arange(9,18).reshape(3,3)\n",
    "print(\"a : \\n\",a)\n",
    "print(\"b : \\n\",b)\n",
    "print(\"a*b : \\n\",a*b)\n"
   ]
  },
  {
   "cell_type": "code",
   "execution_count": 38,
   "id": "6245454d-173d-4ed2-b8a7-6881af7caf85",
   "metadata": {},
   "outputs": [
    {
     "name": "stdout",
     "output_type": "stream",
     "text": [
      "[[ 9]\n",
      " [10]\n",
      " [11]]\n",
      "[[ 0  9 18]\n",
      " [30 40 50]\n",
      " [66 77 88]]\n"
     ]
    }
   ],
   "source": [
    "v=np.arange(9,12).reshape(3,1)\n",
    "print(v)\n",
    "print(a*v)"
   ]
  },
  {
   "cell_type": "code",
   "execution_count": null,
   "id": "e0ee0124-01cd-4cae-84a0-96dc8213f31e",
   "metadata": {},
   "outputs": [],
   "source": [
    "#tester multiplication matricielle\n"
   ]
  }
 ],
 "metadata": {
  "kernelspec": {
   "display_name": "Python 3 (ipykernel)",
   "language": "python",
   "name": "python3"
  },
  "language_info": {
   "codemirror_mode": {
    "name": "ipython",
    "version": 3
   },
   "file_extension": ".py",
   "mimetype": "text/x-python",
   "name": "python",
   "nbconvert_exporter": "python",
   "pygments_lexer": "ipython3",
   "version": "3.8.10"
  }
 },
 "nbformat": 4,
 "nbformat_minor": 5
}
