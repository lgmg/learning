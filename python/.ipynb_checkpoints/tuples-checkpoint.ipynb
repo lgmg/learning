{
 "cells": [
  {
   "cell_type": "markdown",
   "id": "e6d12376-e264-4cd6-b80e-5c3bdce35d13",
   "metadata": {},
   "source": [
    "# Tuples\n",
    "Séries de données\n",
    "- éléments modifiables - mais on peut réassigner \n",
    "- taille fixes\n",
    "- indexées\n",
    "On utilise () avec , comme séparateur pour les créé et del pour les détruire\n"
   ]
  },
  {
   "cell_type": "code",
   "execution_count": null,
   "id": "235eae2b-209a-460d-9f4a-68bcb7902f68",
   "metadata": {},
   "outputs": [],
   "source": [
    "# je créé un tuple pour les jours de la semaine"
   ]
  },
  {
   "cell_type": "code",
   "execution_count": null,
   "id": "ef273ea0-713b-46c5-9f87-9802ecaa292a",
   "metadata": {},
   "outputs": [],
   "source": [
    "# j'affiche un élément"
   ]
  },
  {
   "cell_type": "code",
   "execution_count": null,
   "id": "0d107eb6-bee8-4b47-930c-3ec9b034727a",
   "metadata": {},
   "outputs": [],
   "source": [
    "# je change un élément et vérifie qu'il y a une erreur"
   ]
  },
  {
   "cell_type": "code",
   "execution_count": 20,
   "id": "3466d97f-f241-42bb-8a07-2dc2b88e4ee3",
   "metadata": {},
   "outputs": [
    {
     "name": "stdout",
     "output_type": "stream",
     "text": [
      "somme  ('a', 'b', 'c', 'd', 'e', 'd', 'e')\n",
      "--- modification tuple autre_tuple --- \n",
      "autre_tuple  ('f', 'g')\n",
      "copie_tuple  ('d', 'e') --> copie non modifiée contrairement aux listes\n"
     ]
    }
   ],
   "source": [
    "# j'effectue des opérations\n",
    "un_tuple=(\"a\", \"b\", \"c\")\n",
    "autre_tuple=(\"d\",\"e\")\n",
    "somme_tuple=un_tuple +autre_tuple*2\n",
    "print(\"somme \",somme_tuple)\n",
    "# je vérifie les copies\n",
    "copie_tuple = autre_tuple\n",
    "print (\"--- reaffecte tuple autre_tuple --- \")\n",
    "autre_tuple=(\"f\",\"g\")\n",
    "print(\"autre_tuple \", autre_tuple)\n",
    "print(\"copie_tuple \", copie_tuple, \"--> copie non modifiée contrairement aux listes\")  "
   ]
  },
  {
   "cell_type": "code",
   "execution_count": null,
   "id": "8b378892-b124-4a74-9b56-e2e25778a55a",
   "metadata": {},
   "outputs": [],
   "source": []
  },
  {
   "cell_type": "code",
   "execution_count": null,
   "id": "203e1cde-ae1d-478a-9703-d4c67929ee91",
   "metadata": {},
   "outputs": [],
   "source": []
  }
 ],
 "metadata": {
  "kernelspec": {
   "display_name": "Python 3 (ipykernel)",
   "language": "python",
   "name": "python3"
  },
  "language_info": {
   "codemirror_mode": {
    "name": "ipython",
    "version": 3
   },
   "file_extension": ".py",
   "mimetype": "text/x-python",
   "name": "python",
   "nbconvert_exporter": "python",
   "pygments_lexer": "ipython3",
   "version": "3.8.10"
  }
 },
 "nbformat": 4,
 "nbformat_minor": 5
}
