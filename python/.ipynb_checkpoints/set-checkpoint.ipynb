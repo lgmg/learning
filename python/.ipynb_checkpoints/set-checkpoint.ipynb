{
 "cells": [
  {
   "cell_type": "markdown",
   "id": "9559e0fb-23f4-4742-bb22-2d58191adbe3",
   "metadata": {},
   "source": [
    "# Set\n",
    "créé une collection d'élémént\n",
    "- non modifiable\n",
    "- non indexé\n",
    "- données hétérogene"
   ]
  },
  {
   "cell_type": "code",
   "execution_count": 11,
   "id": "b535ccc7-48dd-4c05-a06a-93391ce7b5f2",
   "metadata": {},
   "outputs": [
    {
     "name": "stdout",
     "output_type": "stream",
     "text": [
      "False\n"
     ]
    }
   ],
   "source": [
    "# je créé un set\n"
   ]
  },
  {
   "cell_type": "code",
   "execution_count": null,
   "id": "8141738e-aaa0-4b13-945b-26627bc090eb",
   "metadata": {},
   "outputs": [],
   "source": []
  }
 ],
 "metadata": {
  "kernelspec": {
   "display_name": "Python 3 (ipykernel)",
   "language": "python",
   "name": "python3"
  },
  "language_info": {
   "codemirror_mode": {
    "name": "ipython",
    "version": 3
   },
   "file_extension": ".py",
   "mimetype": "text/x-python",
   "name": "python",
   "nbconvert_exporter": "python",
   "pygments_lexer": "ipython3",
   "version": "3.8.10"
  }
 },
 "nbformat": 4,
 "nbformat_minor": 5
}
