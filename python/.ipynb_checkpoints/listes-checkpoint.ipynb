{
 "cells": [
  {
   "cell_type": "markdown",
   "id": "072e6e1d-5a4e-48fe-a0f7-0238b6314692",
   "metadata": {},
   "source": [
    "# Listes\n",
    "Collection de données. Les listes sont :\n",
    "- modifiables (=mutable)\n",
    "- indexées\n",
    "- taille non fixée\n",
    "\n",
    "On utilise [] avec , comme séparateur pour les initialiser\n",
    "on utilise la méthode append() pour en ajouter\n"
   ]
  },
  {
   "cell_type": "code",
   "execution_count": null,
   "id": "80a7f562-d157-486c-9a2c-952b8b4c067f",
   "metadata": {
    "tags": []
   },
   "outputs": [],
   "source": [
    "#je créé une liste\n"
   ]
  },
  {
   "cell_type": "code",
   "execution_count": null,
   "id": "9bda7ae6-6cf0-4324-b5f7-b1243f07ed9a",
   "metadata": {},
   "outputs": [],
   "source": [
    "#je vérifie que le type de données peuvent être hétérogènes en ajoutant un type différent\n"
   ]
  },
  {
   "cell_type": "code",
   "execution_count": null,
   "id": "5e559b45-5ae1-410c-b49a-4ac3c8b11510",
   "metadata": {},
   "outputs": [],
   "source": [
    "#je créé une liste vide pour déclarer et j'ajoute un élément\n"
   ]
  },
  {
   "cell_type": "code",
   "execution_count": null,
   "id": "2c29eb02-5dee-48a7-b35e-abc14211fb82",
   "metadata": {},
   "outputs": [],
   "source": [
    "#j'affiche la taille de la liste\n"
   ]
  },
  {
   "cell_type": "code",
   "execution_count": null,
   "id": "b2b17ccb-5c3d-4490-865e-27f152d84fbf",
   "metadata": {},
   "outputs": [],
   "source": [
    "#je fais des opérations +,* sur les listes\n"
   ]
  },
  {
   "cell_type": "code",
   "execution_count": 10,
   "id": "a292da13-38a7-4a6b-91fb-05107dd6524c",
   "metadata": {},
   "outputs": [
    {
     "name": "stdout",
     "output_type": "stream",
     "text": [
      "une_liste ['a', 'b', 'c']\n",
      "copie_liste ['a', 'b', 'c']\n",
      "--- modification liste une_liste --- \n",
      "une_liste ['xxx', 'b', 'c']\n",
      "copie_liste ['xxx', 'b', 'c'] ---> copie_liste est aussi modifiée --- \n"
     ]
    }
   ],
   "source": [
    "# je vérifie la copie ! attention la copie est aussi modifiée!\n",
    "une_liste=[\"a\",\"b\",\"c\"]\n",
    "print (\"une_liste\",une_liste)\n",
    "copie_liste = une_liste\n",
    "print (\"copie_liste\",copie_liste)\n",
    "print (\"--- modification liste une_liste --- \")\n",
    "une_liste[0] = \"xxx\"\n",
    "print (\"une_liste\",une_liste)\n",
    "print (\"copie_liste\",copie_liste, \"---> copie_liste est aussi modifiée --- \")"
   ]
  },
  {
   "cell_type": "code",
   "execution_count": null,
   "id": "6bb7d512-4f8e-4c16-b9c9-93f3454bb98c",
   "metadata": {},
   "outputs": [],
   "source": [
    "#je vérifie les indices négatifs\n"
   ]
  },
  {
   "cell_type": "code",
   "execution_count": null,
   "id": "8a1b655f-57f8-40d5-a861-1294f81a5ae0",
   "metadata": {},
   "outputs": [],
   "source": [
    "# je créé une liste avec range\n"
   ]
  },
  {
   "cell_type": "code",
   "execution_count": null,
   "id": "46f58910-81fd-4c61-a9de-346ad8b772bf",
   "metadata": {},
   "outputs": [],
   "source": [
    "# je créé une lise de liste\n"
   ]
  }
 ],
 "metadata": {
  "kernelspec": {
   "display_name": "Python 3 (ipykernel)",
   "language": "python",
   "name": "python3"
  },
  "language_info": {
   "codemirror_mode": {
    "name": "ipython",
    "version": 3
   },
   "file_extension": ".py",
   "mimetype": "text/x-python",
   "name": "python",
   "nbconvert_exporter": "python",
   "pygments_lexer": "ipython3",
   "version": "3.8.10"
  }
 },
 "nbformat": 4,
 "nbformat_minor": 5
}
