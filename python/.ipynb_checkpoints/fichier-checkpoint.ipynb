{
 "cells": [
  {
   "cell_type": "markdown",
   "id": "78a09057-b685-4b3c-9dcf-0a2fc925f67d",
   "metadata": {},
   "source": [
    "# Les fichiers\n",
    "Les fichiers permettent de sauvegarder toutes sortes de données. On peut consiérer qu'il existe deux types de fichiers : \n",
    "- les fichiers ascii (texte) : ce sont des fichiers lisibles par un éditeur de texte\n",
    "- les fichiers binaires : ce sont des fichiers formatés avec une certaine trame ou alors un exécutable\n",
    "\n",
    "Nous n'allons voir que les fichiers ascii\n",
    "En python il y a deux méthodes :\n",
    "- fonction open() : nécessite un close() à la fin\n",
    "- bloc with open()\n",
    "\n",
    "En général, on préfère la seconde méthode pour des raison de clarté mais aussi de robustesse\n",
    "\n",
    "with open(\\<nom_de_fichier\\> , [\"r\" | \"w\"]) as \\<variable\\>, [ open (\\<nom_de_fichier2\\> , [\"r\" | \"w\"]) as \\<variable2\\> ... ]\n",
    "\n",
    "- read()\n",
    "- readlines()\n",
    "- readline()\n",
    "- write()"
   ]
  },
  {
   "cell_type": "code",
   "execution_count": 5,
   "id": "30941feb-b620-49dd-a0a8-27e31e5ce01a",
   "metadata": {},
   "outputs": [
    {
     "name": "stdout",
     "output_type": "stream",
     "text": [
      "1 : tomates\n",
      "\n",
      "2 : salade\n",
      "\n",
      "3 : pommes\n",
      "\n",
      "4 : courgettes\n",
      "\n",
      "5 : savon\n",
      "\n",
      "6 : jambon\n",
      "\n"
     ]
    }
   ],
   "source": [
    "# je crée un fichier avec une liste de course\n",
    "# je lis ce fichier avec with open\n",
    "# je teste read, readlines, readline\n",
    "with open(\"courses.txt\",\"r\") as fichier_liste_course:\n",
    "    for i,article in enumerate(fichier_liste_course):\n",
    "        print (f\"{i+1} : {article}\")\n"
   ]
  },
  {
   "cell_type": "code",
   "execution_count": null,
   "id": "b513a1af-d217-44a5-9279-bf93a5f54c64",
   "metadata": {},
   "outputs": [],
   "source": [
    "# j'écris dans un fichier"
   ]
  }
 ],
 "metadata": {
  "kernelspec": {
   "display_name": "Python 3 (ipykernel)",
   "language": "python",
   "name": "python3"
  },
  "language_info": {
   "codemirror_mode": {
    "name": "ipython",
    "version": 3
   },
   "file_extension": ".py",
   "mimetype": "text/x-python",
   "name": "python",
   "nbconvert_exporter": "python",
   "pygments_lexer": "ipython3",
   "version": "3.8.10"
  }
 },
 "nbformat": 4,
 "nbformat_minor": 5
}
