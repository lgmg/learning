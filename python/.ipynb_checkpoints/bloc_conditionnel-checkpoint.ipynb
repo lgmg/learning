{
 "cells": [
  {
   "cell_type": "markdown",
   "id": "b1cb9e52-19e9-4d8f-8082-3d115e9cd72e",
   "metadata": {},
   "source": [
    "# Bloc conditionnel\n",
    "\n",
    "C'est un bloc qui n'est exécuté que si la condition est vraie\n",
    "on utilise les mots clés if / else / elif\n"
   ]
  },
  {
   "cell_type": "code",
   "execution_count": null,
   "id": "9b809700-e7a9-4cbc-a70f-9281957db3e6",
   "metadata": {},
   "outputs": [],
   "source": [
    "# je fais un jeux pour deviner un nombre\n",
    "# \n",
    "# si le nombre entré est trop petit on affiche 'c'est plus grand'\n",
    "# si le nombre entré est trop grand on affiche 'c'est plus petit'\n",
    "# mais si le nombre entré est tres proche on affiche avant 'presque ... mais ...'\n",
    "# jusqu'a ce que je trouve le nombre a deviner\n"
   ]
  }
 ],
 "metadata": {
  "kernelspec": {
   "display_name": "Python 3 (ipykernel)",
   "language": "python",
   "name": "python3"
  },
  "language_info": {
   "codemirror_mode": {
    "name": "ipython",
    "version": 3
   },
   "file_extension": ".py",
   "mimetype": "text/x-python",
   "name": "python",
   "nbconvert_exporter": "python",
   "pygments_lexer": "ipython3",
   "version": "3.8.10"
  }
 },
 "nbformat": 4,
 "nbformat_minor": 5
}
