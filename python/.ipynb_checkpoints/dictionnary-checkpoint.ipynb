{
 "cells": [
  {
   "cell_type": "markdown",
   "id": "8e287fb7-2488-438b-a2d1-73589ef2659d",
   "metadata": {},
   "source": [
    "# Dictionnaire\n",
    "Un dictionnaire permet de structurer les données sous la forme clés-valeurs\n",
    "- modifiables\n",
    "- indexé (depuis python 3.7)\n",
    "- extensible \n",
    "- clé non redondante\n",
    "- donnée hétérogène"
   ]
  },
  {
   "cell_type": "code",
   "execution_count": null,
   "id": "4c035b6b-ff2f-4cde-8ce6-2c3bf4af4bd0",
   "metadata": {},
   "outputs": [],
   "source": [
    "# je créé un dictionnaire pour décrire un livre\n"
   ]
  },
  {
   "cell_type": "code",
   "execution_count": null,
   "id": "a77823d1-2033-495b-8232-09ff661efed8",
   "metadata": {},
   "outputs": [],
   "source": [
    "# je rajoute l'année d'édition"
   ]
  }
 ],
 "metadata": {
  "kernelspec": {
   "display_name": "Python 3 (ipykernel)",
   "language": "python",
   "name": "python3"
  },
  "language_info": {
   "codemirror_mode": {
    "name": "ipython",
    "version": 3
   },
   "file_extension": ".py",
   "mimetype": "text/x-python",
   "name": "python",
   "nbconvert_exporter": "python",
   "pygments_lexer": "ipython3",
   "version": "3.8.10"
  }
 },
 "nbformat": 4,
 "nbformat_minor": 5
}
