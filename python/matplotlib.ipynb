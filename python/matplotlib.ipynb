{
 "cells": [
  {
   "cell_type": "markdown",
   "id": "1f49637f-2d27-4688-97bb-795c80db5540",
   "metadata": {
    "tags": []
   },
   "source": [
    "# Librairie Scientique - maplotlib"
   ]
  },
  {
   "cell_type": "code",
   "execution_count": null,
   "id": "bf5b5009-fff4-4ea1-80b7-fe1f88c83cbd",
   "metadata": {},
   "outputs": [],
   "source": []
  }
 ],
 "metadata": {
  "kernelspec": {
   "display_name": "Python 3 (ipykernel)",
   "language": "python",
   "name": "python3"
  },
  "language_info": {
   "codemirror_mode": {
    "name": "ipython",
    "version": 3
   },
   "file_extension": ".py",
   "mimetype": "text/x-python",
   "name": "python",
   "nbconvert_exporter": "python",
   "pygments_lexer": "ipython3",
   "version": "3.8.10"
  }
 },
 "nbformat": 4,
 "nbformat_minor": 5
}
