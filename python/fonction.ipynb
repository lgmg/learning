{
 "cells": [
  {
   "cell_type": "markdown",
   "id": "8d97bfe0-f1f4-4745-afbe-390841c31f86",
   "metadata": {},
   "source": [
    "# Fonction\n",
    "\n",
    "C'est un morceau de code que l'on peut appeler a tout moment. C'est un peu la même chose qu'une fonction en mathématiques : il y a des arguments, des résultats et des opérations à effectuer entre"
   ]
  },
  {
   "cell_type": "code",
   "execution_count": null,
   "id": "48755798-4849-4192-b7da-8d9145ee9439",
   "metadata": {},
   "outputs": [],
   "source": [
    "# je fais une fonction qui calcule une moyenne"
   ]
  },
  {
   "cell_type": "code",
   "execution_count": null,
   "id": "f00f46e1-c1bc-4a0f-8e26-108a7dbef83d",
   "metadata": {},
   "outputs": [],
   "source": [
    "# je fais une fonction qui calcul une moyenne pondérée"
   ]
  },
  {
   "cell_type": "code",
   "execution_count": null,
   "id": "0f0128d3-641a-4872-9bb6-5799a848dba0",
   "metadata": {},
   "outputs": [],
   "source": [
    "# je fais un programme qui permet d'entrer des notes"
   ]
  },
  {
   "cell_type": "markdown",
   "id": "790fd6a2-a9dc-4064-9acf-f505084b8053",
   "metadata": {},
   "source": [
    "## Arguments\n",
    "- position\n",
    "- valeur par défaut\n",
    "- fonction\n",
    "- liste"
   ]
  },
  {
   "cell_type": "code",
   "execution_count": null,
   "id": "a49ee970-1f7c-4c0b-ba3b-b8649d1074ff",
   "metadata": {},
   "outputs": [],
   "source": [
    "# je teste une fonction à 3 arguments avec des valeurs par défaut\n",
    "# qui simplement affiche les trois variables\n",
    "# j'appele la fonction avec 1 puis 2 puis 3 arguments\n",
    "# je vérifie que l'on peut utiliser les dénonimation des arguments à l'appel"
   ]
  },
  {
   "cell_type": "code",
   "execution_count": null,
   "id": "a6c48482-9185-4112-b95d-4a683a210735",
   "metadata": {},
   "outputs": [],
   "source": [
    "# je teste pour vérifier que les arguments scalaires ne sont pas modifié"
   ]
  },
  {
   "cell_type": "code",
   "execution_count": null,
   "id": "2488da75-4770-4b30-8874-fa7472fbfe00",
   "metadata": {},
   "outputs": [],
   "source": [
    "# je fais une fonction qui double la liste entrée en argument\n",
    "# je vérifie que l'argument est modifiée\n",
    "# je fais de même pour les chaines de caractères"
   ]
  },
  {
   "cell_type": "markdown",
   "id": "ece8f09b-61b7-46b7-ab75-3bb17a5c6bcd",
   "metadata": {},
   "source": [
    "## Les sorties\n",
    "- peuvent êtres multiples\n"
   ]
  }
 ],
 "metadata": {
  "kernelspec": {
   "display_name": "Python 3 (ipykernel)",
   "language": "python",
   "name": "python3"
  },
  "language_info": {
   "codemirror_mode": {
    "name": "ipython",
    "version": 3
   },
   "file_extension": ".py",
   "mimetype": "text/x-python",
   "name": "python",
   "nbconvert_exporter": "python",
   "pygments_lexer": "ipython3",
   "version": "3.8.10"
  }
 },
 "nbformat": 4,
 "nbformat_minor": 5
}
